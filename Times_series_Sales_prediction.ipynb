{
  "nbformat": 4,
  "nbformat_minor": 0,
  "metadata": {
    "colab": {
      "name": "Times series Sales prediction.ipynb",
      "provenance": [],
      "collapsed_sections": [],
      "mount_file_id": "1XqDKM5TAb9yMFlv3ZKfpG38IIfgnXboT",
      "authorship_tag": "ABX9TyM9UOKlX5PvQ/sN449hZgva",
      "include_colab_link": true
    },
    "kernelspec": {
      "display_name": "Python 3",
      "name": "python3"
    }
  },
  "cells": [
    {
      "cell_type": "markdown",
      "metadata": {
        "id": "view-in-github",
        "colab_type": "text"
      },
      "source": [
        "<a href=\"https://colab.research.google.com/github/Inaracrewc/Sales-forecasting/blob/main/Times_series_Sales_prediction.ipynb\" target=\"_parent\"><img src=\"https://colab.research.google.com/assets/colab-badge.svg\" alt=\"Open In Colab\"/></a>"
      ]
    },
    {
      "cell_type": "code",
      "metadata": {
        "id": "ibaPdYCAKN1S",
        "colab": {
          "base_uri": "https://localhost:8080/"
        },
        "outputId": "6e7696fa-cb07-407d-edd8-4e165217743f"
      },
      "source": [
        "!pip install -Uqq fastbook\n",
        "import fastbook\n",
        "fastbook.setup_book()\n"
      ],
      "execution_count": 1,
      "outputs": [
        {
          "output_type": "stream",
          "text": [
            "\u001b[K     |████████████████████████████████| 727kB 4.7MB/s \n",
            "\u001b[K     |████████████████████████████████| 194kB 11.1MB/s \n",
            "\u001b[K     |████████████████████████████████| 1.2MB 8.7MB/s \n",
            "\u001b[K     |████████████████████████████████| 51kB 5.3MB/s \n",
            "\u001b[K     |████████████████████████████████| 12.8MB 337kB/s \n",
            "\u001b[K     |████████████████████████████████| 776.8MB 23kB/s \n",
            "\u001b[K     |████████████████████████████████| 61kB 6.8MB/s \n",
            "\u001b[K     |████████████████████████████████| 51kB 5.9MB/s \n",
            "\u001b[31mERROR: torchtext 0.9.0 has requirement torch==1.8.0, but you'll have torch 1.7.1 which is incompatible.\u001b[0m\n",
            "\u001b[?25hMounted at /content/gdrive\n"
          ],
          "name": "stdout"
        }
      ]
    },
    {
      "cell_type": "code",
      "metadata": {
        "colab": {
          "base_uri": "https://localhost:8080/"
        },
        "id": "4631UKIhqNz-",
        "outputId": "7a8dddbd-13a3-418b-b00a-e0248c18c8ee"
      },
      "source": [
        "!pip install statsmodels\n",
        "!conda install -c conda-forge statsmodels\n",
        "!git clone git://github.com/statsmodels/statsmodels.git\n",
        "from pandas import read_csv\n",
        "from matplotlib import pyplot\n",
        "from pandas.plotting import autocorrelation_plot"
      ],
      "execution_count": 1,
      "outputs": [
        {
          "output_type": "stream",
          "text": [
            "Requirement already satisfied: statsmodels in /usr/local/lib/python3.7/dist-packages (0.10.2)\n",
            "Requirement already satisfied: pandas>=0.19 in /usr/local/lib/python3.7/dist-packages (from statsmodels) (1.1.5)\n",
            "Requirement already satisfied: scipy>=0.18 in /usr/local/lib/python3.7/dist-packages (from statsmodels) (1.4.1)\n",
            "Requirement already satisfied: patsy>=0.4.0 in /usr/local/lib/python3.7/dist-packages (from statsmodels) (0.5.1)\n",
            "Requirement already satisfied: numpy>=1.11 in /usr/local/lib/python3.7/dist-packages (from statsmodels) (1.19.5)\n",
            "Requirement already satisfied: python-dateutil>=2.7.3 in /usr/local/lib/python3.7/dist-packages (from pandas>=0.19->statsmodels) (2.8.1)\n",
            "Requirement already satisfied: pytz>=2017.2 in /usr/local/lib/python3.7/dist-packages (from pandas>=0.19->statsmodels) (2018.9)\n",
            "Requirement already satisfied: six in /usr/local/lib/python3.7/dist-packages (from patsy>=0.4.0->statsmodels) (1.15.0)\n",
            "/bin/bash: conda: command not found\n",
            "fatal: destination path 'statsmodels' already exists and is not an empty directory.\n"
          ],
          "name": "stdout"
        }
      ]
    },
    {
      "cell_type": "code",
      "metadata": {
        "colab": {
          "base_uri": "https://localhost:8080/"
        },
        "id": "NEV0boRuKzPN",
        "outputId": "905dfd54-f446-4cd3-cfae-7172e45ac3c0"
      },
      "source": [
        "%matplotlib inline\n",
        "import matplotlib.pyplot as plt\n",
        "import pandas as pd\n",
        "import datetime\n",
        "import pandas_datareader as pdr\n",
        "import seaborn as sns\n",
        "import statsmodels.tsa.ar_model\n",
        "import statsmodels.tsa.api\n",
        "import statsmodels.api as sm\n",
        "#import statsmodels.tsa.arima.model\n",
        "import statsmodels.graphics.api\n",
        "import matplotlib.pyplot as plt\n",
        "from pandas.plotting import register_matplotlib_converters\n",
        "from statsmodels.graphics.tsaplots import plot_acf, plot_pacf\n",
        "register_matplotlib_converters()"
      ],
      "execution_count": 2,
      "outputs": [
        {
          "output_type": "stream",
          "text": [
            "/usr/local/lib/python3.7/dist-packages/statsmodels/tools/_testing.py:19: FutureWarning: pandas.util.testing is deprecated. Use the functions in the public API at pandas.testing instead.\n",
            "  import pandas.util.testing as tm\n"
          ],
          "name": "stderr"
        }
      ]
    },
    {
      "cell_type": "code",
      "metadata": {
        "id": "Iuk21Jxg7mUV"
      },
      "source": [
        "precovid_invoices = pd.read_csv('/content/gdrive/MyDrive/SALES_PREDICTION/17.03 PRECOVID Overzicht facturen_ no neg..csv')"
      ],
      "execution_count": 7,
      "outputs": []
    },
    {
      "cell_type": "code",
      "metadata": {
        "colab": {
          "base_uri": "https://localhost:8080/",
          "height": 252
        },
        "id": "Cr1noMT9QlzV",
        "outputId": "93adedd6-f8f1-4a24-ff63-2a5d7a8f0b72"
      },
      "source": [
        "print(precovid_invoices.shape)\n",
        "pd.DataFrame(precovid_invoices.dtypes)"
      ],
      "execution_count": 8,
      "outputs": [
        {
          "output_type": "stream",
          "text": [
            "(2612, 6)\n"
          ],
          "name": "stdout"
        },
        {
          "output_type": "execute_result",
          "data": {
            "text/html": [
              "<div>\n",
              "<style scoped>\n",
              "    .dataframe tbody tr th:only-of-type {\n",
              "        vertical-align: middle;\n",
              "    }\n",
              "\n",
              "    .dataframe tbody tr th {\n",
              "        vertical-align: top;\n",
              "    }\n",
              "\n",
              "    .dataframe thead th {\n",
              "        text-align: right;\n",
              "    }\n",
              "</style>\n",
              "<table border=\"1\" class=\"dataframe\">\n",
              "  <thead>\n",
              "    <tr style=\"text-align: right;\">\n",
              "      <th></th>\n",
              "      <th>0</th>\n",
              "    </tr>\n",
              "  </thead>\n",
              "  <tbody>\n",
              "    <tr>\n",
              "      <th>Invoice_id</th>\n",
              "      <td>int64</td>\n",
              "    </tr>\n",
              "    <tr>\n",
              "      <th>order_id</th>\n",
              "      <td>int64</td>\n",
              "    </tr>\n",
              "    <tr>\n",
              "      <th>date</th>\n",
              "      <td>object</td>\n",
              "    </tr>\n",
              "    <tr>\n",
              "      <th>Customer_code</th>\n",
              "      <td>int64</td>\n",
              "    </tr>\n",
              "    <tr>\n",
              "      <th>Amount</th>\n",
              "      <td>float64</td>\n",
              "    </tr>\n",
              "    <tr>\n",
              "      <th>Is_holiday month</th>\n",
              "      <td>float64</td>\n",
              "    </tr>\n",
              "  </tbody>\n",
              "</table>\n",
              "</div>"
            ],
            "text/plain": [
              "                        0\n",
              "Invoice_id          int64\n",
              "order_id            int64\n",
              "date               object\n",
              "Customer_code       int64\n",
              "Amount            float64\n",
              "Is_holiday month  float64"
            ]
          },
          "metadata": {
            "tags": []
          },
          "execution_count": 8
        }
      ]
    },
    {
      "cell_type": "code",
      "metadata": {
        "colab": {
          "base_uri": "https://localhost:8080/",
          "height": 204
        },
        "id": "xwjqctG-aHUG",
        "outputId": "f81e7ea8-6a0d-4014-b156-37ab5127dae2"
      },
      "source": [
        "precovid_invoices.head()"
      ],
      "execution_count": 9,
      "outputs": [
        {
          "output_type": "execute_result",
          "data": {
            "text/html": [
              "<div>\n",
              "<style scoped>\n",
              "    .dataframe tbody tr th:only-of-type {\n",
              "        vertical-align: middle;\n",
              "    }\n",
              "\n",
              "    .dataframe tbody tr th {\n",
              "        vertical-align: top;\n",
              "    }\n",
              "\n",
              "    .dataframe thead th {\n",
              "        text-align: right;\n",
              "    }\n",
              "</style>\n",
              "<table border=\"1\" class=\"dataframe\">\n",
              "  <thead>\n",
              "    <tr style=\"text-align: right;\">\n",
              "      <th></th>\n",
              "      <th>Invoice_id</th>\n",
              "      <th>order_id</th>\n",
              "      <th>date</th>\n",
              "      <th>Customer_code</th>\n",
              "      <th>Amount</th>\n",
              "      <th>Is_holiday month</th>\n",
              "    </tr>\n",
              "  </thead>\n",
              "  <tbody>\n",
              "    <tr>\n",
              "      <th>0</th>\n",
              "      <td>191055</td>\n",
              "      <td>195050</td>\n",
              "      <td>1/14/2019</td>\n",
              "      <td>10001</td>\n",
              "      <td>92.0</td>\n",
              "      <td>1.0</td>\n",
              "    </tr>\n",
              "    <tr>\n",
              "      <th>1</th>\n",
              "      <td>191067</td>\n",
              "      <td>195062</td>\n",
              "      <td>1/16/2019</td>\n",
              "      <td>10001</td>\n",
              "      <td>120.0</td>\n",
              "      <td>1.0</td>\n",
              "    </tr>\n",
              "    <tr>\n",
              "      <th>2</th>\n",
              "      <td>86920</td>\n",
              "      <td>151393</td>\n",
              "      <td>9/10/2018</td>\n",
              "      <td>10001</td>\n",
              "      <td>96.0</td>\n",
              "      <td>NaN</td>\n",
              "    </tr>\n",
              "    <tr>\n",
              "      <th>3</th>\n",
              "      <td>191503</td>\n",
              "      <td>195548</td>\n",
              "      <td>4/25/2019</td>\n",
              "      <td>10002</td>\n",
              "      <td>48.0</td>\n",
              "      <td>1.0</td>\n",
              "    </tr>\n",
              "    <tr>\n",
              "      <th>4</th>\n",
              "      <td>191984</td>\n",
              "      <td>196054</td>\n",
              "      <td>8/28/2019</td>\n",
              "      <td>10002</td>\n",
              "      <td>101.0</td>\n",
              "      <td>NaN</td>\n",
              "    </tr>\n",
              "  </tbody>\n",
              "</table>\n",
              "</div>"
            ],
            "text/plain": [
              "   Invoice_id  order_id       date  Customer_code  Amount  Is_holiday month\n",
              "0      191055    195050  1/14/2019          10001    92.0               1.0\n",
              "1      191067    195062  1/16/2019          10001   120.0               1.0\n",
              "2       86920    151393  9/10/2018          10001    96.0               NaN\n",
              "3      191503    195548  4/25/2019          10002    48.0               1.0\n",
              "4      191984    196054  8/28/2019          10002   101.0               NaN"
            ]
          },
          "metadata": {
            "tags": []
          },
          "execution_count": 9
        }
      ]
    },
    {
      "cell_type": "code",
      "metadata": {
        "id": "6JCFG8y00YRz"
      },
      "source": [
        "precovid_invoices.drop(['Invoice_id','order_id','Customer_code', 'Is_holiday month'],axis=1, inplace=True)"
      ],
      "execution_count": 10,
      "outputs": []
    },
    {
      "cell_type": "code",
      "metadata": {
        "colab": {
          "base_uri": "https://localhost:8080/",
          "height": 235
        },
        "id": "R52InWxC0mxI",
        "outputId": "b3306b4b-cc25-4db9-dd0f-602369d8f093"
      },
      "source": [
        "precovid_invoices.head()"
      ],
      "execution_count": 14,
      "outputs": [
        {
          "output_type": "execute_result",
          "data": {
            "text/html": [
              "<div>\n",
              "<style scoped>\n",
              "    .dataframe tbody tr th:only-of-type {\n",
              "        vertical-align: middle;\n",
              "    }\n",
              "\n",
              "    .dataframe tbody tr th {\n",
              "        vertical-align: top;\n",
              "    }\n",
              "\n",
              "    .dataframe thead th {\n",
              "        text-align: right;\n",
              "    }\n",
              "</style>\n",
              "<table border=\"1\" class=\"dataframe\">\n",
              "  <thead>\n",
              "    <tr style=\"text-align: right;\">\n",
              "      <th></th>\n",
              "      <th>Amount</th>\n",
              "    </tr>\n",
              "    <tr>\n",
              "      <th>date</th>\n",
              "      <th></th>\n",
              "    </tr>\n",
              "  </thead>\n",
              "  <tbody>\n",
              "    <tr>\n",
              "      <th>2019-01-14</th>\n",
              "      <td>92.0</td>\n",
              "    </tr>\n",
              "    <tr>\n",
              "      <th>2019-01-16</th>\n",
              "      <td>120.0</td>\n",
              "    </tr>\n",
              "    <tr>\n",
              "      <th>2018-09-10</th>\n",
              "      <td>96.0</td>\n",
              "    </tr>\n",
              "    <tr>\n",
              "      <th>2019-04-25</th>\n",
              "      <td>48.0</td>\n",
              "    </tr>\n",
              "    <tr>\n",
              "      <th>2019-08-28</th>\n",
              "      <td>101.0</td>\n",
              "    </tr>\n",
              "  </tbody>\n",
              "</table>\n",
              "</div>"
            ],
            "text/plain": [
              "            Amount\n",
              "date              \n",
              "2019-01-14    92.0\n",
              "2019-01-16   120.0\n",
              "2018-09-10    96.0\n",
              "2019-04-25    48.0\n",
              "2019-08-28   101.0"
            ]
          },
          "metadata": {
            "tags": []
          },
          "execution_count": 14
        }
      ]
    },
    {
      "cell_type": "code",
      "metadata": {
        "colab": {
          "base_uri": "https://localhost:8080/"
        },
        "id": "Vg_g4dHs3qpx",
        "outputId": "abe2720e-dcdc-4390-c30a-80454e7144eb"
      },
      "source": [
        "precovid_invoices.dtypes"
      ],
      "execution_count": 15,
      "outputs": [
        {
          "output_type": "execute_result",
          "data": {
            "text/plain": [
              "Amount    float64\n",
              "dtype: object"
            ]
          },
          "metadata": {
            "tags": []
          },
          "execution_count": 15
        }
      ]
    },
    {
      "cell_type": "code",
      "metadata": {
        "id": "dibg6zUM0wjH"
      },
      "source": [
        "precovid_invoices['date'] = pd.to_datetime(precovid_invoices.date)"
      ],
      "execution_count": 12,
      "outputs": []
    },
    {
      "cell_type": "code",
      "metadata": {
        "id": "6O8sQvnE03PP"
      },
      "source": [
        "precovid_invoices.set_index('date', inplace=True)"
      ],
      "execution_count": 13,
      "outputs": []
    },
    {
      "cell_type": "code",
      "metadata": {
        "colab": {
          "base_uri": "https://localhost:8080/",
          "height": 286
        },
        "id": "gUFsg-nn14ar",
        "outputId": "c1177561-ffe6-4b34-e64c-9da6f58c1537"
      },
      "source": [
        "plt.figure(figsize=(10,4))\n",
        "plt.plot(precovid_invoices.Amount)\n",
        "plt.title('Amounts invoiced over time', fontsize=20)\n",
        "plt.ylabel('Amount', fontsize=16)\n",
        "for year in range(2018,2020):\n",
        "    plt.axvline(pd.to_datetime(str(year)+'-01-01'), color='k', linestyle='-', alpha=0.2)\n"
      ],
      "execution_count": 23,
      "outputs": [
        {
          "output_type": "display_data",
          "data": {
            "image/png": "[encoded data removed]",
            "text/plain": [
              "<Figure size 720x288 with 1 Axes>"
            ]
          },
          "metadata": {
            "tags": [],
            "needs_background": "light"
          }
        }
      ]
    },
    {
      "cell_type": "markdown",
      "metadata": {
        "id": "HuO23Atx9Ke5"
      },
      "source": [
        "# **ACF**\n"
      ]
    },
    {
      "cell_type": "code",
      "metadata": {
        "id": "RXugbm2Sva8w",
        "colab": {
          "base_uri": "https://localhost:8080/",
          "height": 281
        },
        "outputId": "dde9b572-ecd8-46dd-d14f-07746007c27f"
      },
      "source": [
        "acf_plot = plot_acf(precovid_invoices.Amount, lags=5)\n"
      ],
      "execution_count": 22,
      "outputs": [
        {
          "output_type": "display_data",
          "data": {
            "image/png": "[encoded data removed]",
            "text/plain": [
              "<Figure size 432x288 with 1 Axes>"
            ]
          },
          "metadata": {
            "tags": [],
            "needs_background": "light"
          }
        }
      ]
    },
    {
      "cell_type": "code",
      "metadata": {
        "id": "F7ML2y2S8ELa"
      },
      "source": [
        ""
      ],
      "execution_count": null,
      "outputs": []
    }
  ]
}